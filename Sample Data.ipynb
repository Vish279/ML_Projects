{
 "cells": [
  {
   "cell_type": "code",
   "execution_count": 2,
   "metadata": {},
   "outputs": [],
   "source": [
    "# data/logistic_regression_data.csv\n",
    "import pandas as pd\n",
    "import numpy as np\n",
    "\n",
    "np.random.seed(0)\n",
    "data_size = 1000\n",
    "data = pd.DataFrame({\n",
    "    'feature1': np.random.randn(data_size),\n",
    "    'feature2': np.random.randn(data_size),\n",
    "    'feature3': np.random.randn(data_size),\n",
    "    'label': np.random.randint(0, 2, data_size)\n",
    "})\n",
    "data.to_csv('data/logistic_regression_data.csv', index=False)\n",
    "\n",
    "# data/random_forest_data.csv\n",
    "data_size = 1000\n",
    "data = pd.DataFrame({\n",
    "    'feature1': np.random.randn(data_size),\n",
    "    'feature2': np.random.randn(data_size),\n",
    "    'feature3': np.random.randn(data_size),\n",
    "    'label': np.random.randint(0, 5, data_size)\n",
    "})\n",
    "data.to_csv('data/random_forest_data.csv', index=False)\n",
    "\n",
    "# data/neural_net_data.csv\n",
    "data_size = 1000\n",
    "data = pd.DataFrame({\n",
    "    'feature1': np.random.randn(data_size),\n",
    "    'feature2': np.random.randn(data_size),\n",
    "    'feature3': np.random.randn(data_size),\n",
    "    'label': np.random.randint(0, 10, data_size)\n",
    "})\n",
    "data.to_csv('data/neural_net_data.csv', index=False)"
   ]
  },
  {
   "cell_type": "code",
   "execution_count": null,
   "metadata": {},
   "outputs": [],
   "source": []
  }
 ],
 "metadata": {
  "kernelspec": {
   "display_name": "Python 3",
   "language": "python",
   "name": "python3"
  },
  "language_info": {
   "codemirror_mode": {
    "name": "ipython",
    "version": 3
   },
   "file_extension": ".py",
   "mimetype": "text/x-python",
   "name": "python",
   "nbconvert_exporter": "python",
   "pygments_lexer": "ipython3",
   "version": "3.8.5"
  }
 },
 "nbformat": 4,
 "nbformat_minor": 4
}
